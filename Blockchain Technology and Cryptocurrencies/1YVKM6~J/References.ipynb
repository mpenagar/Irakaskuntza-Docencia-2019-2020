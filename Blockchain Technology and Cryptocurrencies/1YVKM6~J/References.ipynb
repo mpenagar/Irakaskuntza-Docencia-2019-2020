{
 "cells": [
  {
   "cell_type": "markdown",
   "metadata": {},
   "source": [
    "# The breeding ground: b-money, HashCash and BitGold\n",
    "\n",
    "\n",
    "### The history of bitcoin:\n",
    "\n",
    " * https://btcmanager.com/the-history-of-bitcoin-part-1-what-is-hashcash\n",
    " * https://btcmanager.com/the-history-of-bitcoin-part-2-bit-gold\n",
    " * https://btcmanager.com/the-history-of-bitcoin-part-3-what-is-b-money\n",
    " * https://btcmanager.com/the-history-of-bitcoin-part-4-bittorrent\n",
    " * https://btcmanager.com/history-of-bitcoin-part-5-hollywood-stock-exchange\n",
    " \n",
    "### [Criptohistoria](https://guiabitcoin.com/criptohistoria)\n",
    "\n",
    "### [Bitcoin no fue la primera descubre las 7 criptomonedas anteriores](https://bitcoin.es/noticias/bitcoin-no-fue-la-primera-descubre-las-7-criptomonedas-anteriores/)\n",
    " \n",
    "### [The ideas before Bitcoin](https://dickolsson.com/the-ideas-before-bitcoin/)\n",
    "\n",
    "### [Mastering Bitcoin - History of Bitcoin](https://github.com/bitcoinbook/bitcoinbook/blob/develop/ch01.asciidoc#history-of-bitcoin)\n",
    "\n",
    "### The Byzantine Generals Problem\n",
    "   * https://people.eecs.berkeley.edu/~luca/cs174/byzantine.pdf\n",
    "   * https://coincentral.com/byzantine-generals-problem/\n",
    "   * [Youtube - Consensus Algorithms, Blockchain Technology and Bitcoin UCL - by Andreas M. Antonopoulos](https://www.youtube.com/watch?v=fw3WkySh_Ho)\n",
    "   * [Youtube - Bitcoin and Byzantine Generals | Programmer explains](https://www.youtube.com/watch?v=kE51N84hBxU)\n",
    "   \n",
    "   \n",
    " "
   ]
  }
 ],
 "metadata": {
  "kernelspec": {
   "display_name": "Python 3",
   "language": "python",
   "name": "python3"
  },
  "language_info": {
   "codemirror_mode": {
    "name": "ipython",
    "version": 3
   },
   "file_extension": ".py",
   "mimetype": "text/x-python",
   "name": "python",
   "nbconvert_exporter": "python",
   "pygments_lexer": "ipython3",
   "version": "3.5.6"
  }
 },
 "nbformat": 4,
 "nbformat_minor": 2
}

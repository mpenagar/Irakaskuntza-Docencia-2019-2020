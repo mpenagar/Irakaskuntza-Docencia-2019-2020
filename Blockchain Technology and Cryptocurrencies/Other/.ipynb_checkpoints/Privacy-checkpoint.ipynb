{
 "cells": [
  {
   "cell_type": "markdown",
   "metadata": {},
   "source": [
    "# Coinjoin & Stonewall\n",
    "\n",
    "* https://blockonomi.com/stonewall-samourai-bitcoin-privacy/\n",
    "* Example transaction:\n",
    "    * https://blockstream.info/tx/cbf0d884edda79fe40c41776b97c0576060378c1760a82ec95959614385d88cc\n",
    "\n",
    "```\n",
    "-----BEGIN BITCOIN SIGNED MESSAGE-----\n",
    "Firmado utilizando dirección de UTXO. {\"pubkey\":\"0248f0a28253b620954f2e6529be92561835cb9697e9d72d6c6e0c3c8af17fd6e5\",\"address\":\"35H2HCb6DDWZnWReLciHCTqHVvroHRXtAT\"} 24 jun. 2019 12:57:52\n",
    "-----BEGIN BITCOIN SIGNATURE-----\n",
    "Version: Bitcoin-qt (1.0)\n",
    "Address: 14pVXonx5C3XjkRpHZ4NXrwQHRfmrZBZVw\n",
    "\n",
    "IChOTCq6lNGeuKEQX52Xv5NsFzFFtGvdMJuVuNadxQ5ifqbqSS1dKDqtkI8YJTq0mQBQPB7229j/Ube+783MJ5I=\n",
    "-----END BITCOIN SIGNATURE-----\n",
    "```"
   ]
  }
 ],
 "metadata": {
  "kernelspec": {
   "display_name": "Python 3",
   "language": "python",
   "name": "python3"
  },
  "language_info": {
   "codemirror_mode": {
    "name": "ipython",
    "version": 3
   },
   "file_extension": ".py",
   "mimetype": "text/x-python",
   "name": "python",
   "nbconvert_exporter": "python",
   "pygments_lexer": "ipython3",
   "version": "3.5.6"
  }
 },
 "nbformat": 4,
 "nbformat_minor": 2
}

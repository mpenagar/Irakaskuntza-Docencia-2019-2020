{
 "cells": [
  {
   "cell_type": "markdown",
   "metadata": {},
   "source": [
    "# scikit-learn tutorial"
   ]
  },
  {
   "cell_type": "code",
   "execution_count": 1,
   "metadata": {},
   "outputs": [
    {
     "name": "stdout",
     "output_type": "stream",
     "text": [
      "Cloning into 'euroscipy-2019-scikit-learn-tutorial'...\n",
      "remote: Enumerating objects: 265, done.\u001b[K\n",
      "remote: Counting objects: 100% (265/265), done.\u001b[K\n",
      "remote: Compressing objects: 100% (171/171), done.\u001b[K\n",
      "remote: Total 2716 (delta 190), reused 158 (delta 94), pack-reused 2451\u001b[K\n",
      "Receiving objects: 100% (2716/2716), 24.57 MiB | 5.55 MiB/s, done.\n",
      "Resolving deltas: 100% (1878/1878), done.\n"
     ]
    }
   ],
   "source": [
    "#!git clone https://github.com/lesteve/euroscipy-2019-scikit-learn-tutorial"
   ]
  },
  {
   "cell_type": "code",
   "execution_count": 1,
   "metadata": {},
   "outputs": [],
   "source": [
    "import sklearn\n",
    "import pandas\n",
    "import pandas_profiling\n",
    "import matplotlib\n",
    "import seaborn\n",
    "import jupyter"
   ]
  }
 ],
 "metadata": {
  "kernelspec": {
   "display_name": "Python 3",
   "language": "python",
   "name": "python3"
  },
  "language_info": {
   "codemirror_mode": {
    "name": "ipython",
    "version": 3
   },
   "file_extension": ".py",
   "mimetype": "text/x-python",
   "name": "python",
   "nbconvert_exporter": "python",
   "pygments_lexer": "ipython3",
   "version": "3.7.4"
  }
 },
 "nbformat": 4,
 "nbformat_minor": 2
}

{
 "cells": [
  {
   "cell_type": "markdown",
   "metadata": {},
   "source": [
    "# Best Coding Practices in Jupyterlab"
   ]
  },
  {
   "cell_type": "markdown",
   "metadata": {},
   "source": [
    "* El código se ejecuta secuencialmente\n",
    "    * Guarda resultados para no tener que volver a calcularlos\n",
    "* El código debería ser legible\n",
    "    * Crea celdas pequeñas, funciones\n",
    "* El código debe ser reusable\n",
    "    * No copy/paste, importar código\n",
    "* Mantén el código ordenado\n",
    "* Documentar\n",
    "    * versiones mínimas\n",
    "    * usar entornos virtuales\n",
    "* Reproducible\n",
    "    * Docker, Binder..."
   ]
  }
 ],
 "metadata": {
  "kernelspec": {
   "display_name": "Python 3",
   "language": "python",
   "name": "python3"
  },
  "language_info": {
   "codemirror_mode": {
    "name": "ipython",
    "version": 3
   },
   "file_extension": ".py",
   "mimetype": "text/x-python",
   "name": "python",
   "nbconvert_exporter": "python",
   "pygments_lexer": "ipython3",
   "version": "3.7.4"
  }
 },
 "nbformat": 4,
 "nbformat_minor": 2
}

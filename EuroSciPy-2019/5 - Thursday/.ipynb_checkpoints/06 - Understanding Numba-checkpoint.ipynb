{
 "cells": [
  {
   "cell_type": "markdown",
   "metadata": {},
   "source": [
    "# Understanding Numba\n",
    "\n",
    "* https://numba.pydata.org/"
   ]
  },
  {
   "cell_type": "code",
   "execution_count": 48,
   "metadata": {},
   "outputs": [],
   "source": [
    "from numba import njit\n",
    "from numba import prange\n",
    "import numpy as np\n",
    "\n",
    "x = np.arange(100).reshape(10, 10)"
   ]
  },
  {
   "cell_type": "code",
   "execution_count": 2,
   "metadata": {},
   "outputs": [],
   "source": [
    "def go(a):\n",
    "    trace = 0\n",
    "    for i in range(a.shape[0]):   \n",
    "        trace += np.tanh(a[i, i]) \n",
    "    return a + trace              "
   ]
  },
  {
   "cell_type": "code",
   "execution_count": 3,
   "metadata": {},
   "outputs": [],
   "source": [
    "@njit\n",
    "def go_fast(a): # Function is compiled to machine code when called the first time\n",
    "    trace = 0\n",
    "    for i in range(a.shape[0]):   # Numba likes loops\n",
    "        trace += np.tanh(a[i, i]) # Numba likes NumPy functions\n",
    "    return a + trace              # Numba likes NumPy broadcasting"
   ]
  },
  {
   "cell_type": "code",
   "execution_count": 4,
   "metadata": {},
   "outputs": [
    {
     "name": "stdout",
     "output_type": "stream",
     "text": [
      "28.4 µs ± 535 ns per loop (mean ± std. dev. of 7 runs, 10000 loops each)\n",
      "948 ns ± 54.1 ns per loop (mean ± std. dev. of 7 runs, 1000000 loops each)\n"
     ]
    }
   ],
   "source": [
    "%timeit go(x)\n",
    "\n",
    "go_fast(x) # force compilation...\n",
    "%timeit go_fast(x)"
   ]
  },
  {
   "cell_type": "code",
   "execution_count": 5,
   "metadata": {},
   "outputs": [
    {
     "data": {
      "text/plain": [
       "[0, 1, 2, 3, 5, 7, 11, 13, 17, 19, 23, 29, 31, 37, 41, 43, 47]"
      ]
     },
     "execution_count": 5,
     "metadata": {},
     "output_type": "execute_result"
    }
   ],
   "source": [
    "def is_prime(n):\n",
    "    for i in range(2,n):\n",
    "        if n%i == 0 :\n",
    "            return False\n",
    "    return True\n",
    "[i for i in range(50) if is_prime(i)]"
   ]
  },
  {
   "cell_type": "code",
   "execution_count": 6,
   "metadata": {},
   "outputs": [
    {
     "data": {
      "text/plain": [
       "[0, 1, 2, 3, 5, 7, 11, 13, 17, 19, 23, 29, 31, 37, 41, 43, 47]"
      ]
     },
     "execution_count": 6,
     "metadata": {},
     "output_type": "execute_result"
    }
   ],
   "source": [
    "@njit\n",
    "def is_prime_fast(n):\n",
    "    for i in range(2,n):\n",
    "        if n%i == 0 :\n",
    "            return False\n",
    "    return True\n",
    "[i for i in range(50) if is_prime_fast(i)]"
   ]
  },
  {
   "cell_type": "code",
   "execution_count": 7,
   "metadata": {},
   "outputs": [
    {
     "name": "stdout",
     "output_type": "stream",
     "text": [
      "14.6 ms ± 443 µs per loop (mean ± std. dev. of 7 runs, 100 loops each)\n",
      "1.05 ms ± 9.35 µs per loop (mean ± std. dev. of 7 runs, 1000 loops each)\n"
     ]
    }
   ],
   "source": [
    "%timeit is_prime(199999)\n",
    "%timeit is_prime_fast(199999)"
   ]
  },
  {
   "cell_type": "code",
   "execution_count": 8,
   "metadata": {},
   "outputs": [
    {
     "data": {
      "text/plain": [
       "9594"
      ]
     },
     "execution_count": 8,
     "metadata": {},
     "output_type": "execute_result"
    }
   ],
   "source": [
    "from numba import prange\n",
    "#@njit\n",
    "@njit(parallel=True)\n",
    "def count_prime_fast(N):\n",
    "    c = 0\n",
    "    #for n in range(N) :\n",
    "    for n in prange(N) :\n",
    "        for i in range(2,n):\n",
    "            if n%i == 0 :\n",
    "                break\n",
    "        else:\n",
    "            c += 1\n",
    "    return c\n",
    "count_prime_fast(100000)"
   ]
  },
  {
   "cell_type": "code",
   "execution_count": 98,
   "metadata": {},
   "outputs": [
    {
     "data": {
      "text/plain": [
       "27000000.0"
      ]
     },
     "execution_count": 98,
     "metadata": {},
     "output_type": "execute_result"
    }
   ],
   "source": [
    "def incr(n):\n",
    "    c = 0.0\n",
    "    for i in range(n):\n",
    "        for j in range(n):\n",
    "            for k in range(n):\n",
    "                c += 1.0\n",
    "    return c\n",
    "incr(300)"
   ]
  },
  {
   "cell_type": "code",
   "execution_count": 99,
   "metadata": {},
   "outputs": [
    {
     "data": {
      "text/plain": [
       "27000000.0"
      ]
     },
     "execution_count": 99,
     "metadata": {},
     "output_type": "execute_result"
    }
   ],
   "source": [
    "@njit\n",
    "def incr_fast(n):\n",
    "    c = 0.0\n",
    "    for i in range(n):\n",
    "        for j in range(n):\n",
    "            for k in range(n):\n",
    "                c += 1.0\n",
    "    return c\n",
    "incr_fast(300)"
   ]
  },
  {
   "cell_type": "code",
   "execution_count": 100,
   "metadata": {},
   "outputs": [
    {
     "data": {
      "text/plain": [
       "27000000.0"
      ]
     },
     "execution_count": 100,
     "metadata": {},
     "output_type": "execute_result"
    }
   ],
   "source": [
    "@njit(parallel=True)\n",
    "def incr_fast_par(n):\n",
    "    c = 0\n",
    "    for i in prange(n):\n",
    "        for j in range(n):\n",
    "            for k in range(n):\n",
    "                c += 1.0\n",
    "    return c\n",
    "incr_fast_par(300)"
   ]
  },
  {
   "cell_type": "code",
   "execution_count": 101,
   "metadata": {},
   "outputs": [
    {
     "name": "stdout",
     "output_type": "stream",
     "text": [
      "880 ms ± 5.52 ms per loop (mean ± std. dev. of 7 runs, 1 loop each)\n",
      "28.5 ms ± 403 µs per loop (mean ± std. dev. of 7 runs, 10 loops each)\n",
      "2.71 ms ± 41.6 µs per loop (mean ± std. dev. of 7 runs, 100 loops each)\n"
     ]
    }
   ],
   "source": [
    "n = 300\n",
    "%timeit incr(n)\n",
    "%timeit incr_fast(n)\n",
    "%timeit incr_fast_par(n)"
   ]
  },
  {
   "cell_type": "code",
   "execution_count": 102,
   "metadata": {},
   "outputs": [
    {
     "name": "stdout",
     "output_type": "stream",
     "text": [
      "1000000000.0\n",
      "1000000000.0\n",
      "1.06 s ± 7.46 ms per loop (mean ± std. dev. of 7 runs, 1 loop each)\n",
      "81.6 ms ± 3.85 ms per loop (mean ± std. dev. of 7 runs, 10 loops each)\n"
     ]
    }
   ],
   "source": [
    "n = 10**3\n",
    "print(incr_fast(n))\n",
    "print(incr_fast_par(n))\n",
    "\n",
    "%timeit incr_fast(n)\n",
    "%timeit incr_fast_par(n)"
   ]
  }
 ],
 "metadata": {
  "kernelspec": {
   "display_name": "Python 3",
   "language": "python",
   "name": "python3"
  },
  "language_info": {
   "codemirror_mode": {
    "name": "ipython",
    "version": 3
   },
   "file_extension": ".py",
   "mimetype": "text/x-python",
   "name": "python",
   "nbconvert_exporter": "python",
   "pygments_lexer": "ipython3",
   "version": "3.7.4"
  }
 },
 "nbformat": 4,
 "nbformat_minor": 2
}

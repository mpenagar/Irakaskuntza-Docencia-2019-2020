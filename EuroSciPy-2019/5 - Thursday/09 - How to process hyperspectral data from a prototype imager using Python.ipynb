{
 "cells": [
  {
   "cell_type": "markdown",
   "metadata": {},
   "source": [
    "# How to process hyperspectral data from a prototype imager using Python\n",
    "\n",
    "* Matti Eskelinen, https://github.com/maaleske?tab=repositories\n",
    "* SILMAE (Spectral Imaging Laboratory for Multidisciplinary Analysis and Expertise) https://github.com/silmae\n",
    "* Spectral Imaging Laboratory https://www.jyu.fi/it/en/research/research-areas/computational-sciences/signal-and-image-processing/hsi\n"
   ]
  },
  {
   "cell_type": "markdown",
   "metadata": {},
   "source": [
    "* https://www.researchgate.net/publication/260967392_Miniaturized_hyperspectral_imager_calibration_and_UAV_flight_campaigns\n"
   ]
  },
  {
   "cell_type": "markdown",
   "metadata": {},
   "source": [
    "## camera data adquisition\n",
    "    * camazing\n",
    "    * spectracular"
   ]
  },
  {
   "cell_type": "markdown",
   "metadata": {},
   "source": [
    "Cargan las imagenes en un xarray (SciPy?)\n"
   ]
  }
 ],
 "metadata": {
  "kernelspec": {
   "display_name": "Python 3",
   "language": "python",
   "name": "python3"
  },
  "language_info": {
   "codemirror_mode": {
    "name": "ipython",
    "version": 3
   },
   "file_extension": ".py",
   "mimetype": "text/x-python",
   "name": "python",
   "nbconvert_exporter": "python",
   "pygments_lexer": "ipython3",
   "version": "3.7.4"
  }
 },
 "nbformat": 4,
 "nbformat_minor": 2
}

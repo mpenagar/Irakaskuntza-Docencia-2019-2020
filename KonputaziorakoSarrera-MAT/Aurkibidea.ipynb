{
 "cells": [
  {
   "cell_type": "markdown",
   "metadata": {
    "slideshow": {
     "slide_type": "slide"
    }
   },
   "source": [
    "# Konputaziorako Sarrera - Python - Aurkibidea\n",
    "\n",
    "1. [Python Programazio Lengoaia - Ezaugarri batzuk](Gardenkiak/Python%20Programazio%20Lengoaia%20-%20Ezaugarri%20batzuk.ipynb)\n",
    "1. [Balio literalak eta datu motak](Gardenkiak/Balio%20literalak%20eta%20datu%20motak.ipynb)\n",
    "1. [Aldagaiak](Gardenkiak/Aldagaiak.ipynb)\n",
    "  1. [Aldagai izenak](Gardenkiak/Aldagai%20izenak.ipynb)\n",
    "1. [Eragileak](Gardenkiak/Eragileak.ipynb)\n",
    "1. [Oinarrizko datu sarrera eta irteera](Gardenkiak/Oinarrizko%20datu%20sarrera%20eta%20irteera.ipynb)\n",
    "1. [Kontrol egiturak](Gardenkiak/Kontrol%20egiturak.ipynb)\n",
    "  1. [`if` sententzia](Gardenkiak/if%20sententzia.ipynb)\n",
    "  1. [`while` sententzia](Gardenkiak/while%20sententzia.ipynb)\n",
    "  1. [`for` sententzia](Gardenkiak/for%20sententzia.ipynb)\n",
    "  1. [`break` eta `continue` sententziak](Gardenkiak/break%20eta%20continue%20sententziak.ipynb)\n",
    "1. [Funtzioak](Gardenkiak/Funtzioak.ipynb)\n",
    "  1. [Aldagaien erabilpen esparrua](Gardenkiak/Aldagaien%20erabilpen%20esparrua.ipynb)\n",
    "  1. [Argumentuak eta defektuzko balioak](Gardenkiak/Argumentuak%20eta%20defektuzko%20balioak.ipynb)\n",
    "1. [Karaktere kateak](Gardenkiak/Karaktere%20kateak.ipynb)\n",
    "1. [Fitxategiak](Gardenkiak/Fitxategiak.ipynb)\n",
    "1. [Zerrendak (Listak)](Gardenkiak/Zerrendak.ipynb)\n",
    "  1. [Matrizeak: zerrenden zerrendak](Gardenkiak/ZerrendenZerrendak.ipynb)\n",
    "1. [N-Koteak (Tuplak)](Gardenkiak/NKoteak.ipynb)\n",
    "1. [Hiztegiak](Gardenkiak/Hiztegiak.ipynb)\n",
    "1. [Multzoak](Gardenkiak/Hiztegiak.ipynb)\n",
    "1. [`del` Sententzia](Gardenkiak/del%20sententzia.ipynb)\n",
    "1. [`with` Sententzia](Gardenkiak/with%20sententzia.ipynb)"
   ]
  }
 ],
 "metadata": {
  "celltoolbar": "Slideshow",
  "kernelspec": {
   "display_name": "Python 3",
   "language": "python",
   "name": "python3"
  },
  "language_info": {
   "codemirror_mode": {
    "name": "ipython",
    "version": 3
   },
   "file_extension": ".py",
   "mimetype": "text/x-python",
   "name": "python",
   "nbconvert_exporter": "python",
   "pygments_lexer": "ipython3",
   "version": "3.5.6"
  }
 },
 "nbformat": 4,
 "nbformat_minor": 2
}

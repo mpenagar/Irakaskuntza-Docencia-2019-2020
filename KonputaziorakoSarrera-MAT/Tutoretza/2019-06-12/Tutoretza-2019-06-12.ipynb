{
 "cells": [
  {
   "cell_type": "code",
   "execution_count": 1,
   "metadata": {},
   "outputs": [
    {
     "name": "stdout",
     "output_type": "stream",
     "text": [
      "[1, 2, 3]\n",
      "[[1, 2, 3], [4, 5, 6], [7, 8, 9]]    M[1][2]= 6\n"
     ]
    }
   ],
   "source": [
    "z = [1,2,3]\n",
    "print(z)\n",
    "M = [[1,2,3],[4,5,6],[7,8,9]]\n",
    "print(M,\"   M[1][2]=\",M[1][2])"
   ]
  },
  {
   "cell_type": "code",
   "execution_count": 2,
   "metadata": {},
   "outputs": [
    {
     "name": "stdout",
     "output_type": "stream",
     "text": [
      "[[None, None, None, None, None], [None, None, None, None, None], [None, None, None, None, None]]\n"
     ]
    }
   ],
   "source": [
    "n = 3\n",
    "m = 5\n",
    "M = []\n",
    "for i in range(n):\n",
    "    z = []\n",
    "    for j in range(m):\n",
    "        z.append(None)\n",
    "    M.append(z)\n",
    "    \n",
    "print(M)"
   ]
  },
  {
   "cell_type": "code",
   "execution_count": 3,
   "metadata": {},
   "outputs": [
    {
     "name": "stdout",
     "output_type": "stream",
     "text": [
      "[[None, None, None, None, None], [None, None, None, None, None], [None, None, None, None, None]]\n"
     ]
    }
   ],
   "source": [
    "n = 3\n",
    "m = 5\n",
    "M = []\n",
    "for i in range(n):\n",
    "    M.append([])\n",
    "    for j in range(m):\n",
    "        M[i].append(None)\n",
    "    \n",
    "print(M)"
   ]
  },
  {
   "cell_type": "code",
   "execution_count": 4,
   "metadata": {},
   "outputs": [],
   "source": [
    "def matrizea(n,m):\n",
    "    M = []\n",
    "    for i in range(n):\n",
    "        z = []\n",
    "        for j in range(m):\n",
    "            z.append([])\n",
    "        M.append(z)\n",
    "    return M"
   ]
  },
  {
   "cell_type": "code",
   "execution_count": 5,
   "metadata": {},
   "outputs": [
    {
     "name": "stdout",
     "output_type": "stream",
     "text": [
      "epa\n"
     ]
    }
   ],
   "source": [
    "f = open(\"db.txt\")\n",
    "print(\"epa\")\n",
    "f.close()"
   ]
  },
  {
   "cell_type": "code",
   "execution_count": 6,
   "metadata": {},
   "outputs": [
    {
     "name": "stdout",
     "output_type": "stream",
     "text": [
      "epa\n"
     ]
    }
   ],
   "source": [
    "with open(\"db.txt\") as f :\n",
    "    print(\"epa\")"
   ]
  },
  {
   "cell_type": "code",
   "execution_count": 7,
   "metadata": {},
   "outputs": [
    {
     "name": "stdout",
     "output_type": "stream",
     "text": [
      "--> 3 5\n",
      "\n",
      "2 1 aaaaaaaa a aaaaa aaaaa aaaaa\n",
      "\n",
      "0 0 bbbbb bbb bbbb bbbbbb b\n",
      "\n",
      "0 4 cccccccccc ccccccccc cccccccc\n",
      "\n",
      "2 1 dddddd ddddddddddd dddddd\n",
      "\n",
      "0 1 eeeeeeee eeee eeeeeeeeeeeeee\n"
     ]
    }
   ],
   "source": [
    "with open(\"db.txt\") as f :\n",
    "    x = f.readline()\n",
    "    print(\"-->\",x)\n",
    "    x = f.readline()    \n",
    "    while x :\n",
    "        print(x)\n",
    "        x = f.readline()"
   ]
  },
  {
   "cell_type": "code",
   "execution_count": 8,
   "metadata": {},
   "outputs": [
    {
     "name": "stdout",
     "output_type": "stream",
     "text": [
      "--> 3 5\n",
      "\n",
      "2 1 aaaaaaaa a aaaaa aaaaa aaaaa\n",
      "\n",
      "0 0 bbbbb bbb bbbb bbbbbb b\n",
      "\n",
      "0 4 cccccccccc ccccccccc cccccccc\n",
      "\n",
      "2 1 dddddd ddddddddddd dddddd\n",
      "\n",
      "0 1 eeeeeeee eeee eeeeeeeeeeeeee\n"
     ]
    }
   ],
   "source": [
    "with open(\"db.txt\") as f :\n",
    "    for x in f:\n",
    "        print(\"-->\",x)\n",
    "        break\n",
    "    for x in f:\n",
    "        print(x)        "
   ]
  },
  {
   "cell_type": "code",
   "execution_count": 9,
   "metadata": {},
   "outputs": [
    {
     "name": "stdout",
     "output_type": "stream",
     "text": [
      "Help on built-in function split:\n",
      "\n",
      "split(...) method of builtins.str instance\n",
      "    S.split(sep=None, maxsplit=-1) -> list of strings\n",
      "    \n",
      "    Return a list of the words in S, using sep as the\n",
      "    delimiter string.  If maxsplit is given, at most maxsplit\n",
      "    splits are done. If sep is not specified or is None, any\n",
      "    whitespace string is a separator and empty strings are\n",
      "    removed from the result.\n",
      "\n"
     ]
    }
   ],
   "source": [
    "help(\"\".split)"
   ]
  },
  {
   "cell_type": "code",
   "execution_count": 10,
   "metadata": {},
   "outputs": [
    {
     "name": "stdout",
     "output_type": "stream",
     "text": [
      "--> 3 5\n",
      "['2', '1', 'aaaaaaaa a aaaaa aaaaa aaaaa']\n",
      "['0', '0', 'bbbbb bbb bbbb bbbbbb b']\n",
      "['0', '4', 'cccccccccc ccccccccc cccccccc']\n",
      "['2', '1', 'dddddd ddddddddddd dddddd']\n",
      "['0', '1', 'eeeeeeee eeee eeeeeeeeeeeeee']\n"
     ]
    }
   ],
   "source": [
    "with open(\"db.txt\") as f :\n",
    "    for x in f:\n",
    "        x = x.split()\n",
    "        n,m = int(x[0]),int(x[1])\n",
    "        print(\"-->\",n,m)\n",
    "        break\n",
    "    for x in f:\n",
    "        print(x.strip().split(maxsplit=2))        "
   ]
  },
  {
   "cell_type": "code",
   "execution_count": 16,
   "metadata": {},
   "outputs": [
    {
     "name": "stdout",
     "output_type": "stream",
     "text": [
      "------------\n",
      "[[['bbbbb bbb bbbb bbbbbb b'], ['eeeeeeee eeee eeeeeeeeeeeeee'], [], [], ['cccccccccc ccccccccc cccccccc']], [[], [], [], [], []], [[], ['aaaaaaaa a aaaaa aaaaa aaaaa', 'dddddd ddddddddddd dddddd'], [], [], []]]\n",
      "------------\n",
      "[['bbbbb bbb bbbb bbbbbb b'], ['eeeeeeee eeee eeeeeeeeeeeeee'], [], [], ['cccccccccc ccccccccc cccccccc']]\n",
      "[[], [], [], [], []]\n",
      "[[], ['aaaaaaaa a aaaaa aaaaa aaaaa', 'dddddd ddddddddddd dddddd'], [], [], []]\n"
     ]
    }
   ],
   "source": [
    "def f2a(fizena):\n",
    "    with open(fizena) as f :\n",
    "        for s in f:\n",
    "            z = s.split()\n",
    "            n = int(z[0])\n",
    "            m = int(z[1])\n",
    "            M = matrizea(n,m)\n",
    "            break\n",
    "        for s in f:\n",
    "            z = s.strip().split(maxsplit=2)\n",
    "            i = int(z[0])\n",
    "            j = int(z[1])\n",
    "            txt = z[2]\n",
    "            M[i][j].append(txt)\n",
    "        return M\n",
    "M = f2a(\"db.txt\")\n",
    "print(\"------------\")\n",
    "print(M)\n",
    "print(\"------------\")\n",
    "for z in M:\n",
    "    print(z)"
   ]
  },
  {
   "cell_type": "code",
   "execution_count": 22,
   "metadata": {},
   "outputs": [
    {
     "name": "stdout",
     "output_type": "stream",
     "text": [
      "(2, 3)\n"
     ]
    }
   ],
   "source": [
    "def f2b(M,gai_kodea):\n",
    "    #len(M[0][gai_kodea])\n",
    "    #len(M[1][gai_kodea])\n",
    "    #len(M[2][gai_kodea])\n",
    "    armairu_kodea = 0\n",
    "    luzera_max = len(M[0][gai_kodea])\n",
    "    luzera_tot = luzera_max\n",
    "    for i in range(1,len(M)):\n",
    "        x = len(M[i][gai_kodea])\n",
    "        if x > luzera_max :\n",
    "            armairu_kodea = i\n",
    "            luzera_max = x\n",
    "        luzera_tot += x\n",
    "    return armairu_kodea,luzera_tot\n",
    "    \n",
    "print(f2b(M,1))"
   ]
  }
 ],
 "metadata": {
  "kernelspec": {
   "display_name": "Python 3",
   "language": "python",
   "name": "python3"
  },
  "language_info": {
   "codemirror_mode": {
    "name": "ipython",
    "version": 3
   },
   "file_extension": ".py",
   "mimetype": "text/x-python",
   "name": "python",
   "nbconvert_exporter": "python",
   "pygments_lexer": "ipython3",
   "version": "3.5.6"
  }
 },
 "nbformat": 4,
 "nbformat_minor": 2
}
